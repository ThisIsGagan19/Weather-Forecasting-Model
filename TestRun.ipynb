{
 "cells": [
  {
   "cell_type": "code",
   "execution_count": 17,
   "id": "ee985b65",
   "metadata": {},
   "outputs": [],
   "source": [
    "import pickle\n",
    "model_filename = \"/Users/gagan/project/model.pkl\"\n",
    "model_file = open(model_filename, 'rb')\n",
    "loaded_model = pickle.load(model_file)\n",
    "model_file.close()"
   ]
  },
  {
   "cell_type": "code",
   "execution_count": 18,
   "id": "eff2bc23",
   "metadata": {},
   "outputs": [
    {
     "name": "stdout",
     "output_type": "stream",
     "text": [
      "Enter the precipitation: 0.3\n",
      "Enter the temp_max: 25\n",
      "Enter the temp_min: 4\n",
      "Enter the wind: 4\n"
     ]
    }
   ],
   "source": [
    "a = float(input(\"Enter the precipitation: \"))\n",
    "b = float(input(\"Enter the temp_max: \"))\n",
    "c = float(input(\"Enter the temp_min: \"))\n",
    "d = float(input(\"Enter the wind: \"))\n",
    "\n",
    "inp = [a, b, c, d]"
   ]
  },
  {
   "cell_type": "code",
   "execution_count": 19,
   "id": "44a80832",
   "metadata": {
    "scrolled": true
   },
   "outputs": [
    {
     "name": "stdout",
     "output_type": "stream",
     "text": [
      "Model Prediction :  ['sun']\n"
     ]
    },
    {
     "name": "stderr",
     "output_type": "stream",
     "text": [
      "/Users/gagan/project/env/lib/python3.10/site-packages/sklearn/base.py:464: UserWarning: X does not have valid feature names, but LogisticRegression was fitted with feature names\n",
      "  warnings.warn(\n"
     ]
    }
   ],
   "source": [
    "print(\"Model Prediction : \",loaded_model.predict([inp]))"
   ]
  },
  {
   "cell_type": "code",
   "execution_count": null,
   "id": "cf43ce47",
   "metadata": {},
   "outputs": [],
   "source": []
  }
 ],
 "metadata": {
  "kernelspec": {
   "display_name": "Python 3 (ipykernel)",
   "language": "python",
   "name": "python3"
  },
  "language_info": {
   "codemirror_mode": {
    "name": "ipython",
    "version": 3
   },
   "file_extension": ".py",
   "mimetype": "text/x-python",
   "name": "python",
   "nbconvert_exporter": "python",
   "pygments_lexer": "ipython3",
   "version": "3.10.13"
  }
 },
 "nbformat": 4,
 "nbformat_minor": 5
}
